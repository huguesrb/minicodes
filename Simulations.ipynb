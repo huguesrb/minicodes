{
 "cells": [
  {
   "cell_type": "markdown",
   "id": "e011edae",
   "metadata": {},
   "source": [
    "### Julien Toucheboeuf & Hugues René-Bazin"
   ]
  },
  {
   "cell_type": "code",
   "execution_count": 53,
   "id": "59719249",
   "metadata": {},
   "outputs": [],
   "source": [
    "import numpy as np\n",
    "import matplotlib.pyplot as plt\n",
    "import numpy.random as rd\n",
    "from time import time\n",
    "from tqdm import tqdm \n",
    "from scipy.stats import gamma\n",
    "import math"
   ]
  },
  {
   "cell_type": "markdown",
   "id": "054d7fe8",
   "metadata": {},
   "source": [
    "### Box-Muller VS Marsaglia"
   ]
  },
  {
   "cell_type": "code",
   "execution_count": 7,
   "id": "ac52d131",
   "metadata": {},
   "outputs": [],
   "source": [
    "def Box_Muller():\n",
    "    u, v = rd.uniform(), rd.uniform()\n",
    "    return (np.sqrt(-2*np.log(u))*np.cos(2*np.pi*v), np.sqrt(-2*np.log(u))*np.sin(2*np.pi*v))\n",
    "\n",
    "def Marsaglia():\n",
    "    length = np.sqrt(np.random.uniform(0, 1))\n",
    "    angle = np.pi * np.random.uniform(0, 2)\n",
    "    v1 = length * np.cos(angle)\n",
    "    v2 = length * np.sin(angle)\n",
    "    \n",
    "    return v1*np.sqrt(-2*np.log(length**2)/length**2),v2*np.sqrt(-2*np.log(length**2)/length**2)\n"
   ]
  },
  {
   "cell_type": "code",
   "execution_count": 8,
   "id": "03698bed",
   "metadata": {},
   "outputs": [
    {
     "name": "stderr",
     "output_type": "stream",
     "text": [
      "100%|█████████████████████████████████████████████████████████████████████████| 10000/10000 [00:00<00:00, 29390.42it/s]"
     ]
    },
    {
     "name": "stdout",
     "output_type": "stream",
     "text": [
      "0.34024691581726074 s for :  10000 iterations\n"
     ]
    },
    {
     "name": "stderr",
     "output_type": "stream",
     "text": [
      "\n"
     ]
    }
   ],
   "source": [
    "## Box Muller \n",
    "iterations = 10000\n",
    "begin = time()\n",
    "for i in tqdm(range(iterations)):\n",
    "    Box_Muller()\n",
    "    \n",
    "duration = time() - begin \n",
    "print(duration, 's for : ', iterations, 'iterations') "
   ]
  },
  {
   "cell_type": "code",
   "execution_count": 9,
   "id": "c78f2c69",
   "metadata": {},
   "outputs": [
    {
     "name": "stderr",
     "output_type": "stream",
     "text": [
      "100%|█████████████████████████████████████████████████████████████████████████| 10000/10000 [00:00<00:00, 19699.34it/s]"
     ]
    },
    {
     "name": "stdout",
     "output_type": "stream",
     "text": [
      "0.5163357257843018 s for :  10000 iterations\n"
     ]
    },
    {
     "name": "stderr",
     "output_type": "stream",
     "text": [
      "\n"
     ]
    }
   ],
   "source": [
    "begin = time()\n",
    "for i in tqdm(range(iterations)):\n",
    "    Marsaglia()\n",
    "    \n",
    "duration2 = time() - begin \n",
    "print(duration2, 's for : ', iterations, 'iterations') "
   ]
  },
  {
   "cell_type": "code",
   "execution_count": 5,
   "id": "bb0e7fa5",
   "metadata": {},
   "outputs": [
    {
     "name": "stdout",
     "output_type": "stream",
     "text": [
      "Wall time: 0 ns\n"
     ]
    }
   ],
   "source": []
  },
  {
   "cell_type": "markdown",
   "id": "fbcc1a48",
   "metadata": {},
   "source": [
    "### Simulation loi Gamma Acceptance-Rejection method"
   ]
  },
  {
   "cell_type": "code",
   "execution_count": 45,
   "id": "36289998",
   "metadata": {},
   "outputs": [],
   "source": [
    "# alpha 0 < alpha < 1 : \n",
    "\n",
    "def v_simulation(alpha,u):\n",
    "    c = np.e/(alpha + np.e)\n",
    "    \n",
    "    if 0 < u < c : \n",
    "        return (u/c)**(1/alpha)\n",
    "    if u >= c: \n",
    "        return -np.log((1-u)/(c*alpha))\n",
    "    else:\n",
    "        return \" please enter a number > 0\"\n",
    "\n",
    "def f(x, alpha):\n",
    "    \n",
    "    return gamma.pdf(alpha,x)\n",
    "\n",
    "def g(alpha, x):\n",
    "    \n",
    "    c = (alpha * np.e)/(alpha + np.e)\n",
    "    if x >= 1:\n",
    "        return c*np.exp(-x)\n",
    "    if 0 < x <=1:\n",
    "        return c*x**(alpha -1)\n",
    "    else:\n",
    "        return \" please enter a number > 0\"\n",
    "    \n",
    "def accept_reject(f,g,alpha,n):\n",
    "    c = (alpha * np.e)/(alpha + np.e)\n",
    "    simulation = []\n",
    "    \n",
    "    while len(simulation) < n:\n",
    "        u = np.random.uniform()\n",
    "        v = v_simulation(alpha,np.random.uniform())\n",
    "        #print(c, g(alpha,v))\n",
    "        if u < f(v,alpha)/(c*g(alpha,v)):\n",
    "            simulation.append(v)\n",
    "            \n",
    "    return simulation"
   ]
  },
  {
   "cell_type": "code",
   "execution_count": 46,
   "id": "ee9d9ba1",
   "metadata": {},
   "outputs": [],
   "source": [
    "simulation = accept_reject(f,g,0.5,100)"
   ]
  },
  {
   "cell_type": "code",
   "execution_count": 60,
   "id": "4113be42",
   "metadata": {},
   "outputs": [
    {
     "data": {
      "image/png": "[encoded data removed]",
      "text/plain": [
       "<Figure size 432x288 with 1 Axes>"
      ]
     },
     "metadata": {
      "needs_background": "light"
     },
     "output_type": "display_data"
    }
   ],
   "source": [
    "plt.title(\" alpha< 1\")\n",
    "plt.hist(simulation)\n",
    "plt.show()"
   ]
  },
  {
   "cell_type": "code",
   "execution_count": 56,
   "id": "96231b12",
   "metadata": {},
   "outputs": [],
   "source": [
    "# si alpha >=1 (et n'est pas dans N ): \n",
    "\n",
    "alpha = 3.4\n",
    "\n",
    "def accept_reject2(f,g,alpha,n):\n",
    "    a,b = int(alpha), float(alpha) - int(alpha)\n",
    "    \n",
    "    s_decimale = accept_reject(f,g,b,n)\n",
    "    \n",
    "    s_part_entiere = [ -np.log(math.prod([np.random.uniform() for i in range(a)])) for i in range(n)]\n",
    "    \n",
    "    result = []\n",
    "    \n",
    "    for i in range(len(s_decimale)):\n",
    "        result.append(s_decimale[i]+s_partie_entiere[i])\n",
    "        \n",
    "    return result\n",
    "    "
   ]
  },
  {
   "cell_type": "code",
   "execution_count": 57,
   "id": "c90942d3",
   "metadata": {},
   "outputs": [],
   "source": [
    "simulation2 = accept_reject(f,g,3.5,100)"
   ]
  },
  {
   "cell_type": "code",
   "execution_count": 62,
   "id": "e60412fd",
   "metadata": {},
   "outputs": [
    {
     "data": {
      "image/png": "[encoded data removed]",
      "text/plain": [
       "<Figure size 432x288 with 1 Axes>"
      ]
     },
     "metadata": {
      "needs_background": "light"
     },
     "output_type": "display_data"
    }
   ],
   "source": [
    "plt.title(\"alpha >1\")\n",
    "plt.hist(simulation2)\n",
    "plt.show()"
   ]
  },
  {
   "cell_type": "code",
   "execution_count": null,
   "id": "92a3c6a7",
   "metadata": {},
   "outputs": [],
   "source": []
  }
 ],
 "metadata": {
  "kernelspec": {
   "display_name": "Python 3",
   "language": "python",
   "name": "python3"
  },
  "language_info": {
   "codemirror_mode": {
    "name": "ipython",
    "version": 3
   },
   "file_extension": ".py",
   "mimetype": "text/x-python",
   "name": "python",
   "nbconvert_exporter": "python",
   "pygments_lexer": "ipython3",
   "version": "3.8.8"
  }
 },
 "nbformat": 4,
 "nbformat_minor": 5
}
