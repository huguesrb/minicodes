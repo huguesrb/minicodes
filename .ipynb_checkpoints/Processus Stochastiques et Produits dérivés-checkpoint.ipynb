{
 "cells": [
  {
   "cell_type": "markdown",
   "id": "congressional-lingerie",
   "metadata": {},
   "source": [
    "## Codes samples usefull for the quizzes and fast computations in this course\n",
    "\n",
    "**Hugues René-Bazin - 2021/2022**"
   ]
  },
  {
   "cell_type": "code",
   "execution_count": 3,
   "id": "essential-badge",
   "metadata": {},
   "outputs": [],
   "source": [
    "import numpy as np \n",
    "from scipy.stats import norm"
   ]
  },
  {
   "cell_type": "markdown",
   "id": "removed-paradise",
   "metadata": {},
   "source": [
    "### 1 - Formules Call - Put \n",
    "\n",
    "$ Call_0(T, K = F_0) = S_0 \\mathcal{N}(d) - S_0 \\mathcal{N}(-d)$, où $ d = \\frac{\\sigma\\sqrt{T}}{2}$ et $\\mathcal{N}$ the cumulative function of $\\mathcal{N}(0,1)$.\n",
    "\n",
    "et, $ Call^{BS}(0,T,S_0,K,\\sigma, r) := S_0 \\mathcal{N}(d_+) - Ke^{-rT}\\mathcal{N}(d_-)$"
   ]
  },
  {
   "cell_type": "code",
   "execution_count": 4,
   "id": "disciplinary-coating",
   "metadata": {},
   "outputs": [],
   "source": [
    "def call0(S0,sigma,T):\n",
    "    d = sigma*np.sqrt(T)*0.5\n",
    "    return S0*(norm.cdf(d)- norm.cdf(-d))\n",
    "\n",
    "def Call_BS(S0,sigma,T, K,r):\n",
    "    x = 1/(sigma*np.sqrt(T))*np.log(S0*np.exp(r*T)/K)\n",
    "    dpos = x + 0.5*sigma*np.sqrt(T)\n",
    "    dneg = x - 0.5*sigma*np.sqrt(T)\n",
    "    \n",
    "    return S0*norm.cdf(dpos) - K*np.exp(-r*T)*norm.cdf(dneg)\n",
    "\n",
    "def Put_BS(S0,sigma,T,K,r):\n",
    "    x = 1/(sigma*np.sqrt(T))*np.log(S0*np.exp(r*T)/K)\n",
    "    dpos = x + 0.5*sigma*np.sqrt(T)\n",
    "    dneg = x - 0.5*sigma*np.sqrt(T)\n",
    "    \n",
    "    return K*np.exp(-r*T)*norm.cdf(- dneg) - S0*norm.cdf(-dpos) "
   ]
  },
  {
   "cell_type": "code",
   "execution_count": 11,
   "id": "powered-phenomenon",
   "metadata": {},
   "outputs": [
    {
     "data": {
      "text/plain": [
       "3.9877611676744973"
      ]
     },
     "execution_count": 11,
     "metadata": {},
     "output_type": "execute_result"
    }
   ],
   "source": [
    "call0(100, 0.2, 0.25)"
   ]
  },
  {
   "cell_type": "code",
   "execution_count": 5,
   "id": "weighted-insurance",
   "metadata": {},
   "outputs": [
    {
     "data": {
      "text/plain": [
       "10.21196003511701"
      ]
     },
     "execution_count": 5,
     "metadata": {},
     "output_type": "execute_result"
    }
   ],
   "source": [
    "Call_BS(100,0.25, 0.5, 95, 0.02)"
   ]
  },
  {
   "cell_type": "code",
   "execution_count": null,
   "id": "running-cuisine",
   "metadata": {},
   "outputs": [],
   "source": []
  }
 ],
 "metadata": {
  "kernelspec": {
   "display_name": "Python 3",
   "language": "python",
   "name": "python3"
  },
  "language_info": {
   "codemirror_mode": {
    "name": "ipython",
    "version": 3
   },
   "file_extension": ".py",
   "mimetype": "text/x-python",
   "name": "python",
   "nbconvert_exporter": "python",
   "pygments_lexer": "ipython3",
   "version": "3.7.6"
  },
  "varInspector": {
   "cols": {
    "lenName": 16,
    "lenType": 16,
    "lenVar": 40
   },
   "kernels_config": {
    "python": {
     "delete_cmd_postfix": "",
     "delete_cmd_prefix": "del ",
     "library": "var_list.py",
     "varRefreshCmd": "print(var_dic_list())"
    },
    "r": {
     "delete_cmd_postfix": ") ",
     "delete_cmd_prefix": "rm(",
     "library": "var_list.r",
     "varRefreshCmd": "cat(var_dic_list()) "
    }
   },
   "types_to_exclude": [
    "module",
    "function",
    "builtin_function_or_method",
    "instance",
    "_Feature"
   ],
   "window_display": false
  }
 },
 "nbformat": 4,
 "nbformat_minor": 5
}
