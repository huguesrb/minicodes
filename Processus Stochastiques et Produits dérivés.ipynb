{
 "cells": [
  {
   "cell_type": "markdown",
   "id": "congressional-lingerie",
   "metadata": {},
   "source": [
    "## Codes samples usefull for the quizzes and fast computations in this course\n",
    "\n",
    "**Hugues René-Bazin - 2021/2022**"
   ]
  },
  {
   "cell_type": "code",
   "execution_count": 15,
   "id": "essential-badge",
   "metadata": {},
   "outputs": [],
   "source": [
    "import numpy as np \n",
    "from scipy.stats import norm"
   ]
  },
  {
   "cell_type": "markdown",
   "id": "removed-paradise",
   "metadata": {},
   "source": [
    "### 1 - Formules Call - Put \n",
    "\n",
    "$ Call_0(T, K = F_0) = S_0 \\mathcal{N}(d) - S_0 \\mathcal{N}(-d)$, où $ d = \\frac{\\sigma\\sqrt{T}}{2}$ et $\\mathcal{N}$ the cumulative function of $\\mathcal{N}(0,1)$.\n",
    "\n",
    "et, $ Call^{BS}(0,T,S_0,K,\\sigma, r) := S_0 \\mathcal{N}(d_+) - Ke^{-rT}\\mathcal{N}(d_-)$"
   ]
  },
  {
   "cell_type": "code",
   "execution_count": 16,
   "id": "disciplinary-coating",
   "metadata": {},
   "outputs": [],
   "source": [
    "def call0(S0,sigma,T):\n",
    "    d = sigma*np.sqrt(T)*0.5\n",
    "    return S0*(norm.cdf(d)- norm.cdf(-d))\n",
    "\n",
    "def Call_BS(S0,sigma,T, K,r):\n",
    "    x = 1/(sigma*np.sqrt(T))*np.log(S0*np.exp(r*T)/K)\n",
    "    dpos = x + 0.5*sigma*np.sqrt(T)\n",
    "    dneg = x - 0.5*sigma*np.sqrt(T)\n",
    "    \n",
    "    return S0*norm.cdf(dpos) - K*np.exp(-r*T)*norm.cdf(dneg)\n",
    "\n",
    "\n",
    "def Put_BS(S0,sigma,T,K,r):\n",
    "    x = 1/(sigma*np.sqrt(T))*np.log(S0*np.exp(r*T)/K)\n",
    "    dpos = x + 0.5*sigma*np.sqrt(T)\n",
    "    dneg = x - 0.5*sigma*np.sqrt(T)\n",
    "    \n",
    "    return K*np.exp(-r*T)*norm.cdf(- dneg) - S0*norm.cdf(-dpos) \n",
    "\n",
    "def Call_BS_q(S0,sigma,T, K,r,q,t=0):\n",
    "    x = 1/(sigma*np.sqrt(T-t))*np.log(S0*np.exp((r-q)*(T-t))/K)\n",
    "    dpos = x + 0.5*sigma*np.sqrt(T-t)\n",
    "    dneg = x - 0.5*sigma*np.sqrt(T-t)\n",
    "    \n",
    "    return np.exp(-q*(T-t))*S0*norm.cdf(dpos) - K*np.exp(-r*(T-t))*norm.cdf(dneg)\n",
    "\n",
    "\n",
    "def Put_BS_q(S0,sigma,T,K,r,q,t=0):\n",
    "    x = 1/(sigma*np.sqrt(T-t))*np.log(S0*np.exp((r-q)*(T-t))/K)\n",
    "    dpos = x + 0.5*sigma*np.sqrt(T-t)\n",
    "    dneg = x - 0.5*sigma*np.sqrt(T-t)\n",
    "    \n",
    "    return K*np.exp(-r*(T-t))*norm.cdf(- dneg) - np.exp(-q*(T-t))*S0*norm.cdf(-dpos) "
   ]
  },
  {
   "cell_type": "code",
   "execution_count": 17,
   "id": "powered-phenomenon",
   "metadata": {},
   "outputs": [
    {
     "data": {
      "text/plain": [
       "6.9536339623533365"
      ]
     },
     "execution_count": 17,
     "metadata": {},
     "output_type": "execute_result"
    }
   ],
   "source": [
    "Put_BS_q(96.53,0.1384, 0.899, 90.6, (0.011 - 0.063),0.063)"
   ]
  },
  {
   "cell_type": "code",
   "execution_count": 18,
   "id": "weighted-insurance",
   "metadata": {},
   "outputs": [
    {
     "data": {
      "text/plain": [
       "8.480592050761793"
      ]
     },
     "execution_count": 18,
     "metadata": {},
     "output_type": "execute_result"
    }
   ],
   "source": [
    "Call_BS_q(98.7, 0.2837,0.193, 92.1, (0.061 - 0.039),0.039)"
   ]
  },
  {
   "cell_type": "code",
   "execution_count": 19,
   "id": "e1c4cd4c",
   "metadata": {},
   "outputs": [
    {
     "data": {
      "text/plain": [
       "7.897107252183297"
      ]
     },
     "execution_count": 19,
     "metadata": {},
     "output_type": "execute_result"
    }
   ],
   "source": [
    "# Displaced log normal \n",
    "\n",
    "Call_BS(91.23 + 37.58,0.2481, 0.758, 99.13 + 37.58, 0)"
   ]
  },
  {
   "cell_type": "markdown",
   "id": "15260b5f",
   "metadata": {},
   "source": [
    "### Grecques "
   ]
  },
  {
   "cell_type": "code",
   "execution_count": 63,
   "id": "d1734519",
   "metadata": {},
   "outputs": [],
   "source": [
    "def delta_call_BS(S0,K,T,r,q,sigma,t=0):\n",
    "    # dérivée par rapport à S0\n",
    "    x = 1/(sigma*np.sqrt(T-t))*np.log(S0*np.exp((r-q)*(T-t))/K)\n",
    "    dpos = x + 0.5*sigma*np.sqrt(T-t)\n",
    "    return norm.cdf(dpos)\n",
    "\n",
    "def delta_put_BS(S0,K,T,r,q,sigma,t=0):\n",
    "    \n",
    "    return delta_call_BS(S0,K,T,t,r,q,sigma) - 1\n",
    "\n",
    "def deltaK_call_BS(S0,K,T,r,q,sigma,t=0):\n",
    "    x = 1/(sigma*np.sqrt(T-t))*np.log(S0*np.exp((r-q)*(T-t))/K)\n",
    "    dneg = x - 0.5*sigma*np.sqrt(T-t)\n",
    "    \n",
    "    return np.exp(-r*T)*norm.cdf(dneg)\n",
    "\n",
    "def deltaK_put_BS(S0,K,T,r,q,sigma,t=0):\n",
    "    \n",
    "    return np.exp(-r*T) - deltaK_call_BS(S0,K,T,t,r,q,sigma) \n",
    "\n",
    "def gamma_BS(S0,K,T,r,q,sigma,t =0):\n",
    "    x = 1/(sigma*np.sqrt(T))*np.log(S0*np.exp(r*T)/K)\n",
    "    dpos = x + 0.5*sigma*np.sqrt(T)\n",
    "    return 1/(S0*sigma*np.sqrt(T))*norm.cdf(dpos)\n",
    "\n",
    "def vega_BS(S0,K,T,r,q,sigma,t=0):\n",
    "    #dérivée par rapport à sigma \n",
    "    x = 1/(sigma*np.sqrt(T-t))*np.log(S0*np.exp((r-q)*(T-t))/K)\n",
    "    dpos = x + 0.5*sigma*np.sqrt(T-t)\n",
    "   \n",
    "    return S0*np.exp(-q*T)*np.sqrt(T)*1/np.sqrt(2*np.pi)*np.exp(-dpos**2/2)\n",
    "\n",
    "def theta_BS(S0,K,T,r,q,sigma, prod = 'Call',t=0):\n",
    "    x = 1/(sigma*np.sqrt(T-t))*np.log(S0*np.exp((r-q)*(T-t))/K)\n",
    "    dpos = x + 0.5*sigma*np.sqrt(T-t)\n",
    "    dneg = x - 0.5*sigma*np.sqrt(T-t)\n",
    "    Y = S0*sigma/(2*np.sqrt(T))*1/np.sqrt(2*np.pi)*np.exp(-dpos)\n",
    "    Z = r*K*np.exp(-r*T)*norm.cdf(dneg)\n",
    "    \n",
    "    if 'Call':\n",
    "        return r*K*np.exp(-r*(T-t))*norm.cdf(dneg) - q*S0*np.exp(-q*(T-t))*norm.cdf(dpos) + S0*np.exp(-q*(T-t))*1/np.sqrt(2*np.pi)*np.exp(-dpos)\n",
    "    if 'Put':\n",
    "        return r*K*np.exp(-r*(T-t))*(norm.cdf(dneg) -1) + q*S0*np.exp(-q*(T-t))*(1 -norm.cdf(dpos)) + np.exp(-q*(T-t))*S0*sigma*1/np.sqrt(2*np.pi)*np.exp(-dpos)/(2*np.sqrt(T-t))\n",
    "    else:\n",
    "        return 'Enter Call or Put'\n",
    "    \n",
    "def rho_call_BS(S0,K,T,r,q,sigma):\n",
    "    x = 1/(sigma*np.sqrt(T))*np.log(S0*np.exp(r*T)/K)\n",
    "    dpos = x + 0.5*sigma*np.sqrt(T)\n",
    "    dneg = x - 0.5*sigma*np.sqrt(T)\n",
    "    \n",
    "    return T*K*np.exp(-r*T)*norm.cdf(dneg)\n",
    "\n",
    "def rho_put_BS(S0,K,T,r,q,sigma):\n",
    "    \n",
    "    return rho_call_BS(S0,K,T,r,sigma) - T*K*np.exp(-r*T)"
   ]
  },
  {
   "cell_type": "code",
   "execution_count": 64,
   "id": "a672e9f5",
   "metadata": {},
   "outputs": [
    {
     "data": {
      "text/plain": [
       "27.18"
      ]
     },
     "execution_count": 64,
     "metadata": {},
     "output_type": "execute_result"
    }
   ],
   "source": [
    "round(vega_BS(91.17, 92.77, 0.713,0.063, 0.095, 0.1245),2)"
   ]
  },
  {
   "cell_type": "markdown",
   "id": "ebb50b0b",
   "metadata": {},
   "source": [
    "### Vol Implicite - Méthode de Newton "
   ]
  },
  {
   "cell_type": "code",
   "execution_count": 42,
   "id": "bb4e3243",
   "metadata": {},
   "outputs": [],
   "source": [
    "def Newton_Raphson(S0,T,q,K,r,sigma, callmkt,eps = 10**(-6),t=0):\n",
    "    #value of sigma0 so that we get the convergence\n",
    "    sigma0, sigma1 = np.sqrt((2/(T-t))*np.abs(np.log((S0*np.exp((r-q)*(T-t))/K)))), 1000\n",
    "    while abs(sigma1-sigma0) > eps:\n",
    "        sigma0 = sigma1\n",
    "        sigma1 = sigma0 - (Call_BS_q(S0,sigma,T, K,r,q,t) - callmkt)/(vega_BS(S0,K,T,r,q,sigma,t))\n",
    "        \n",
    "    return sigma1"
   ]
  },
  {
   "cell_type": "code",
   "execution_count": 43,
   "id": "cd0b2c7d",
   "metadata": {},
   "outputs": [
    {
     "ename": "KeyboardInterrupt",
     "evalue": "",
     "output_type": "error",
     "traceback": [
      "\u001b[1;31m---------------------------------------------------------------------------\u001b[0m",
      "\u001b[1;31mKeyboardInterrupt\u001b[0m                         Traceback (most recent call last)",
      "\u001b[1;32m<ipython-input-43-e00099ad654e>\u001b[0m in \u001b[0;36m<module>\u001b[1;34m\u001b[0m\n\u001b[1;32m----> 1\u001b[1;33m \u001b[0mNewton_Raphson\u001b[0m\u001b[1;33m(\u001b[0m\u001b[1;36m96.32\u001b[0m\u001b[1;33m,\u001b[0m \u001b[1;36m0.464\u001b[0m\u001b[1;33m,\u001b[0m \u001b[1;36m0\u001b[0m\u001b[1;33m,\u001b[0m\u001b[1;36m98.21\u001b[0m\u001b[1;33m,\u001b[0m \u001b[1;36m0\u001b[0m\u001b[1;33m,\u001b[0m \u001b[1;36m0.1527\u001b[0m\u001b[1;33m,\u001b[0m \u001b[0mCall_BS\u001b[0m\u001b[1;33m(\u001b[0m\u001b[1;36m96.32\u001b[0m \u001b[1;33m+\u001b[0m \u001b[1;36m25.7\u001b[0m\u001b[1;33m,\u001b[0m \u001b[1;36m0.1527\u001b[0m\u001b[1;33m,\u001b[0m \u001b[1;36m0.464\u001b[0m\u001b[1;33m,\u001b[0m \u001b[1;36m98.21\u001b[0m \u001b[1;33m+\u001b[0m \u001b[1;36m25.7\u001b[0m\u001b[1;33m,\u001b[0m \u001b[1;36m0\u001b[0m\u001b[1;33m)\u001b[0m\u001b[1;33m)\u001b[0m\u001b[1;33m\u001b[0m\u001b[1;33m\u001b[0m\u001b[0m\n\u001b[0m",
      "\u001b[1;32m<ipython-input-42-b8a61a0ba74c>\u001b[0m in \u001b[0;36mNewton_Raphson\u001b[1;34m(S0, T, q, K, r, sigma, callmkt, eps, t)\u001b[0m\n\u001b[0;32m      4\u001b[0m     \u001b[1;32mwhile\u001b[0m \u001b[0mabs\u001b[0m\u001b[1;33m(\u001b[0m\u001b[0msigma1\u001b[0m\u001b[1;33m-\u001b[0m\u001b[0msigma0\u001b[0m\u001b[1;33m)\u001b[0m \u001b[1;33m>\u001b[0m \u001b[0meps\u001b[0m\u001b[1;33m:\u001b[0m\u001b[1;33m\u001b[0m\u001b[1;33m\u001b[0m\u001b[0m\n\u001b[0;32m      5\u001b[0m         \u001b[0msigma0\u001b[0m \u001b[1;33m=\u001b[0m \u001b[0msigma1\u001b[0m\u001b[1;33m\u001b[0m\u001b[1;33m\u001b[0m\u001b[0m\n\u001b[1;32m----> 6\u001b[1;33m         \u001b[0msigma1\u001b[0m \u001b[1;33m=\u001b[0m \u001b[0msigma0\u001b[0m \u001b[1;33m-\u001b[0m \u001b[1;33m(\u001b[0m\u001b[0mCall_BS_q\u001b[0m\u001b[1;33m(\u001b[0m\u001b[0mS0\u001b[0m\u001b[1;33m,\u001b[0m\u001b[0msigma\u001b[0m\u001b[1;33m,\u001b[0m\u001b[0mT\u001b[0m\u001b[1;33m,\u001b[0m \u001b[0mK\u001b[0m\u001b[1;33m,\u001b[0m\u001b[0mr\u001b[0m\u001b[1;33m,\u001b[0m\u001b[0mq\u001b[0m\u001b[1;33m,\u001b[0m\u001b[0mt\u001b[0m\u001b[1;33m)\u001b[0m \u001b[1;33m-\u001b[0m \u001b[0mcallmkt\u001b[0m\u001b[1;33m)\u001b[0m\u001b[1;33m/\u001b[0m\u001b[1;33m(\u001b[0m\u001b[0mvega_BS\u001b[0m\u001b[1;33m(\u001b[0m\u001b[0mS0\u001b[0m\u001b[1;33m,\u001b[0m\u001b[0mK\u001b[0m\u001b[1;33m,\u001b[0m\u001b[0mT\u001b[0m\u001b[1;33m,\u001b[0m\u001b[0mr\u001b[0m\u001b[1;33m,\u001b[0m\u001b[0mq\u001b[0m\u001b[1;33m,\u001b[0m\u001b[0msigma\u001b[0m\u001b[1;33m,\u001b[0m\u001b[0mt\u001b[0m\u001b[1;33m)\u001b[0m\u001b[1;33m)\u001b[0m\u001b[1;33m\u001b[0m\u001b[1;33m\u001b[0m\u001b[0m\n\u001b[0m\u001b[0;32m      7\u001b[0m \u001b[1;33m\u001b[0m\u001b[0m\n\u001b[0;32m      8\u001b[0m     \u001b[1;32mreturn\u001b[0m \u001b[0msigma1\u001b[0m\u001b[1;33m\u001b[0m\u001b[1;33m\u001b[0m\u001b[0m\n",
      "\u001b[1;32m<ipython-input-16-de3082932395>\u001b[0m in \u001b[0;36mCall_BS_q\u001b[1;34m(S0, sigma, T, K, r, q, t)\u001b[0m\n\u001b[0;32m     23\u001b[0m     \u001b[0mdneg\u001b[0m \u001b[1;33m=\u001b[0m \u001b[0mx\u001b[0m \u001b[1;33m-\u001b[0m \u001b[1;36m0.5\u001b[0m\u001b[1;33m*\u001b[0m\u001b[0msigma\u001b[0m\u001b[1;33m*\u001b[0m\u001b[0mnp\u001b[0m\u001b[1;33m.\u001b[0m\u001b[0msqrt\u001b[0m\u001b[1;33m(\u001b[0m\u001b[0mT\u001b[0m\u001b[1;33m-\u001b[0m\u001b[0mt\u001b[0m\u001b[1;33m)\u001b[0m\u001b[1;33m\u001b[0m\u001b[1;33m\u001b[0m\u001b[0m\n\u001b[0;32m     24\u001b[0m \u001b[1;33m\u001b[0m\u001b[0m\n\u001b[1;32m---> 25\u001b[1;33m     \u001b[1;32mreturn\u001b[0m \u001b[0mnp\u001b[0m\u001b[1;33m.\u001b[0m\u001b[0mexp\u001b[0m\u001b[1;33m(\u001b[0m\u001b[1;33m-\u001b[0m\u001b[0mq\u001b[0m\u001b[1;33m*\u001b[0m\u001b[1;33m(\u001b[0m\u001b[0mT\u001b[0m\u001b[1;33m-\u001b[0m\u001b[0mt\u001b[0m\u001b[1;33m)\u001b[0m\u001b[1;33m)\u001b[0m\u001b[1;33m*\u001b[0m\u001b[0mS0\u001b[0m\u001b[1;33m*\u001b[0m\u001b[0mnorm\u001b[0m\u001b[1;33m.\u001b[0m\u001b[0mcdf\u001b[0m\u001b[1;33m(\u001b[0m\u001b[0mdpos\u001b[0m\u001b[1;33m)\u001b[0m \u001b[1;33m-\u001b[0m \u001b[0mK\u001b[0m\u001b[1;33m*\u001b[0m\u001b[0mnp\u001b[0m\u001b[1;33m.\u001b[0m\u001b[0mexp\u001b[0m\u001b[1;33m(\u001b[0m\u001b[1;33m-\u001b[0m\u001b[0mr\u001b[0m\u001b[1;33m*\u001b[0m\u001b[1;33m(\u001b[0m\u001b[0mT\u001b[0m\u001b[1;33m-\u001b[0m\u001b[0mt\u001b[0m\u001b[1;33m)\u001b[0m\u001b[1;33m)\u001b[0m\u001b[1;33m*\u001b[0m\u001b[0mnorm\u001b[0m\u001b[1;33m.\u001b[0m\u001b[0mcdf\u001b[0m\u001b[1;33m(\u001b[0m\u001b[0mdneg\u001b[0m\u001b[1;33m)\u001b[0m\u001b[1;33m\u001b[0m\u001b[1;33m\u001b[0m\u001b[0m\n\u001b[0m\u001b[0;32m     26\u001b[0m \u001b[1;33m\u001b[0m\u001b[0m\n\u001b[0;32m     27\u001b[0m \u001b[1;33m\u001b[0m\u001b[0m\n",
      "\u001b[1;32m~\\anaconda3\\lib\\site-packages\\scipy\\stats\\_distn_infrastructure.py\u001b[0m in \u001b[0;36mcdf\u001b[1;34m(self, x, *args, **kwds)\u001b[0m\n\u001b[0;32m   1926\u001b[0m         \u001b[0mplace\u001b[0m\u001b[1;33m(\u001b[0m\u001b[0moutput\u001b[0m\u001b[1;33m,\u001b[0m \u001b[0mcond2\u001b[0m\u001b[1;33m,\u001b[0m \u001b[1;36m1.0\u001b[0m\u001b[1;33m)\u001b[0m\u001b[1;33m\u001b[0m\u001b[1;33m\u001b[0m\u001b[0m\n\u001b[0;32m   1927\u001b[0m         \u001b[1;32mif\u001b[0m \u001b[0mnp\u001b[0m\u001b[1;33m.\u001b[0m\u001b[0many\u001b[0m\u001b[1;33m(\u001b[0m\u001b[0mcond\u001b[0m\u001b[1;33m)\u001b[0m\u001b[1;33m:\u001b[0m  \u001b[1;31m# call only if at least 1 entry\u001b[0m\u001b[1;33m\u001b[0m\u001b[1;33m\u001b[0m\u001b[0m\n\u001b[1;32m-> 1928\u001b[1;33m             \u001b[0mgoodargs\u001b[0m \u001b[1;33m=\u001b[0m \u001b[0margsreduce\u001b[0m\u001b[1;33m(\u001b[0m\u001b[0mcond\u001b[0m\u001b[1;33m,\u001b[0m \u001b[1;33m*\u001b[0m\u001b[1;33m(\u001b[0m\u001b[1;33m(\u001b[0m\u001b[0mx\u001b[0m\u001b[1;33m,\u001b[0m\u001b[1;33m)\u001b[0m\u001b[1;33m+\u001b[0m\u001b[0margs\u001b[0m\u001b[1;33m)\u001b[0m\u001b[1;33m)\u001b[0m\u001b[1;33m\u001b[0m\u001b[1;33m\u001b[0m\u001b[0m\n\u001b[0m\u001b[0;32m   1929\u001b[0m             \u001b[0mplace\u001b[0m\u001b[1;33m(\u001b[0m\u001b[0moutput\u001b[0m\u001b[1;33m,\u001b[0m \u001b[0mcond\u001b[0m\u001b[1;33m,\u001b[0m \u001b[0mself\u001b[0m\u001b[1;33m.\u001b[0m\u001b[0m_cdf\u001b[0m\u001b[1;33m(\u001b[0m\u001b[1;33m*\u001b[0m\u001b[0mgoodargs\u001b[0m\u001b[1;33m)\u001b[0m\u001b[1;33m)\u001b[0m\u001b[1;33m\u001b[0m\u001b[1;33m\u001b[0m\u001b[0m\n\u001b[0;32m   1930\u001b[0m         \u001b[1;32mif\u001b[0m \u001b[0moutput\u001b[0m\u001b[1;33m.\u001b[0m\u001b[0mndim\u001b[0m \u001b[1;33m==\u001b[0m \u001b[1;36m0\u001b[0m\u001b[1;33m:\u001b[0m\u001b[1;33m\u001b[0m\u001b[1;33m\u001b[0m\u001b[0m\n",
      "\u001b[1;32m~\\anaconda3\\lib\\site-packages\\scipy\\stats\\_distn_infrastructure.py\u001b[0m in \u001b[0;36margsreduce\u001b[1;34m(cond, *args)\u001b[0m\n\u001b[0;32m    551\u001b[0m         \u001b[0mnewargs\u001b[0m \u001b[1;33m=\u001b[0m \u001b[1;33m[\u001b[0m\u001b[0mnewargs\u001b[0m\u001b[1;33m,\u001b[0m \u001b[1;33m]\u001b[0m\u001b[1;33m\u001b[0m\u001b[1;33m\u001b[0m\u001b[0m\n\u001b[0;32m    552\u001b[0m     \u001b[0mexpand_arr\u001b[0m \u001b[1;33m=\u001b[0m \u001b[1;33m(\u001b[0m\u001b[0mcond\u001b[0m \u001b[1;33m==\u001b[0m \u001b[0mcond\u001b[0m\u001b[1;33m)\u001b[0m\u001b[1;33m\u001b[0m\u001b[1;33m\u001b[0m\u001b[0m\n\u001b[1;32m--> 553\u001b[1;33m     \u001b[1;32mreturn\u001b[0m \u001b[1;33m[\u001b[0m\u001b[0mnp\u001b[0m\u001b[1;33m.\u001b[0m\u001b[0mextract\u001b[0m\u001b[1;33m(\u001b[0m\u001b[0mcond\u001b[0m\u001b[1;33m,\u001b[0m \u001b[0marr1\u001b[0m \u001b[1;33m*\u001b[0m \u001b[0mexpand_arr\u001b[0m\u001b[1;33m)\u001b[0m \u001b[1;32mfor\u001b[0m \u001b[0marr1\u001b[0m \u001b[1;32min\u001b[0m \u001b[0mnewargs\u001b[0m\u001b[1;33m]\u001b[0m\u001b[1;33m\u001b[0m\u001b[1;33m\u001b[0m\u001b[0m\n\u001b[0m\u001b[0;32m    554\u001b[0m \u001b[1;33m\u001b[0m\u001b[0m\n\u001b[0;32m    555\u001b[0m \u001b[1;33m\u001b[0m\u001b[0m\n",
      "\u001b[1;32m~\\anaconda3\\lib\\site-packages\\scipy\\stats\\_distn_infrastructure.py\u001b[0m in \u001b[0;36m<listcomp>\u001b[1;34m(.0)\u001b[0m\n\u001b[0;32m    551\u001b[0m         \u001b[0mnewargs\u001b[0m \u001b[1;33m=\u001b[0m \u001b[1;33m[\u001b[0m\u001b[0mnewargs\u001b[0m\u001b[1;33m,\u001b[0m \u001b[1;33m]\u001b[0m\u001b[1;33m\u001b[0m\u001b[1;33m\u001b[0m\u001b[0m\n\u001b[0;32m    552\u001b[0m     \u001b[0mexpand_arr\u001b[0m \u001b[1;33m=\u001b[0m \u001b[1;33m(\u001b[0m\u001b[0mcond\u001b[0m \u001b[1;33m==\u001b[0m \u001b[0mcond\u001b[0m\u001b[1;33m)\u001b[0m\u001b[1;33m\u001b[0m\u001b[1;33m\u001b[0m\u001b[0m\n\u001b[1;32m--> 553\u001b[1;33m     \u001b[1;32mreturn\u001b[0m \u001b[1;33m[\u001b[0m\u001b[0mnp\u001b[0m\u001b[1;33m.\u001b[0m\u001b[0mextract\u001b[0m\u001b[1;33m(\u001b[0m\u001b[0mcond\u001b[0m\u001b[1;33m,\u001b[0m \u001b[0marr1\u001b[0m \u001b[1;33m*\u001b[0m \u001b[0mexpand_arr\u001b[0m\u001b[1;33m)\u001b[0m \u001b[1;32mfor\u001b[0m \u001b[0marr1\u001b[0m \u001b[1;32min\u001b[0m \u001b[0mnewargs\u001b[0m\u001b[1;33m]\u001b[0m\u001b[1;33m\u001b[0m\u001b[1;33m\u001b[0m\u001b[0m\n\u001b[0m\u001b[0;32m    554\u001b[0m \u001b[1;33m\u001b[0m\u001b[0m\n\u001b[0;32m    555\u001b[0m \u001b[1;33m\u001b[0m\u001b[0m\n",
      "\u001b[1;32m<__array_function__ internals>\u001b[0m in \u001b[0;36mextract\u001b[1;34m(*args, **kwargs)\u001b[0m\n",
      "\u001b[1;32m~\\anaconda3\\lib\\site-packages\\numpy\\lib\\function_base.py\u001b[0m in \u001b[0;36mextract\u001b[1;34m(condition, arr)\u001b[0m\n\u001b[0;32m   1692\u001b[0m \u001b[1;33m\u001b[0m\u001b[0m\n\u001b[0;32m   1693\u001b[0m     \"\"\"\n\u001b[1;32m-> 1694\u001b[1;33m     \u001b[1;32mreturn\u001b[0m \u001b[0m_nx\u001b[0m\u001b[1;33m.\u001b[0m\u001b[0mtake\u001b[0m\u001b[1;33m(\u001b[0m\u001b[0mravel\u001b[0m\u001b[1;33m(\u001b[0m\u001b[0marr\u001b[0m\u001b[1;33m)\u001b[0m\u001b[1;33m,\u001b[0m \u001b[0mnonzero\u001b[0m\u001b[1;33m(\u001b[0m\u001b[0mravel\u001b[0m\u001b[1;33m(\u001b[0m\u001b[0mcondition\u001b[0m\u001b[1;33m)\u001b[0m\u001b[1;33m)\u001b[0m\u001b[1;33m[\u001b[0m\u001b[1;36m0\u001b[0m\u001b[1;33m]\u001b[0m\u001b[1;33m)\u001b[0m\u001b[1;33m\u001b[0m\u001b[1;33m\u001b[0m\u001b[0m\n\u001b[0m\u001b[0;32m   1695\u001b[0m \u001b[1;33m\u001b[0m\u001b[0m\n\u001b[0;32m   1696\u001b[0m \u001b[1;33m\u001b[0m\u001b[0m\n",
      "\u001b[1;32m<__array_function__ internals>\u001b[0m in \u001b[0;36mtake\u001b[1;34m(*args, **kwargs)\u001b[0m\n",
      "\u001b[1;32m~\\anaconda3\\lib\\site-packages\\numpy\\core\\fromnumeric.py\u001b[0m in \u001b[0;36mtake\u001b[1;34m(a, indices, axis, out, mode)\u001b[0m\n\u001b[0;32m    189\u001b[0m            [5, 7]])\n\u001b[0;32m    190\u001b[0m     \"\"\"\n\u001b[1;32m--> 191\u001b[1;33m     \u001b[1;32mreturn\u001b[0m \u001b[0m_wrapfunc\u001b[0m\u001b[1;33m(\u001b[0m\u001b[0ma\u001b[0m\u001b[1;33m,\u001b[0m \u001b[1;34m'take'\u001b[0m\u001b[1;33m,\u001b[0m \u001b[0mindices\u001b[0m\u001b[1;33m,\u001b[0m \u001b[0maxis\u001b[0m\u001b[1;33m=\u001b[0m\u001b[0maxis\u001b[0m\u001b[1;33m,\u001b[0m \u001b[0mout\u001b[0m\u001b[1;33m=\u001b[0m\u001b[0mout\u001b[0m\u001b[1;33m,\u001b[0m \u001b[0mmode\u001b[0m\u001b[1;33m=\u001b[0m\u001b[0mmode\u001b[0m\u001b[1;33m)\u001b[0m\u001b[1;33m\u001b[0m\u001b[1;33m\u001b[0m\u001b[0m\n\u001b[0m\u001b[0;32m    192\u001b[0m \u001b[1;33m\u001b[0m\u001b[0m\n\u001b[0;32m    193\u001b[0m \u001b[1;33m\u001b[0m\u001b[0m\n",
      "\u001b[1;32m~\\anaconda3\\lib\\site-packages\\numpy\\core\\fromnumeric.py\u001b[0m in \u001b[0;36m_wrapfunc\u001b[1;34m(obj, method, *args, **kwds)\u001b[0m\n\u001b[0;32m     56\u001b[0m \u001b[1;33m\u001b[0m\u001b[0m\n\u001b[0;32m     57\u001b[0m     \u001b[1;32mtry\u001b[0m\u001b[1;33m:\u001b[0m\u001b[1;33m\u001b[0m\u001b[1;33m\u001b[0m\u001b[0m\n\u001b[1;32m---> 58\u001b[1;33m         \u001b[1;32mreturn\u001b[0m \u001b[0mbound\u001b[0m\u001b[1;33m(\u001b[0m\u001b[1;33m*\u001b[0m\u001b[0margs\u001b[0m\u001b[1;33m,\u001b[0m \u001b[1;33m**\u001b[0m\u001b[0mkwds\u001b[0m\u001b[1;33m)\u001b[0m\u001b[1;33m\u001b[0m\u001b[1;33m\u001b[0m\u001b[0m\n\u001b[0m\u001b[0;32m     59\u001b[0m     \u001b[1;32mexcept\u001b[0m \u001b[0mTypeError\u001b[0m\u001b[1;33m:\u001b[0m\u001b[1;33m\u001b[0m\u001b[1;33m\u001b[0m\u001b[0m\n\u001b[0;32m     60\u001b[0m         \u001b[1;31m# A TypeError occurs if the object does have such a method in its\u001b[0m\u001b[1;33m\u001b[0m\u001b[1;33m\u001b[0m\u001b[1;33m\u001b[0m\u001b[0m\n",
      "\u001b[1;31mKeyboardInterrupt\u001b[0m: "
     ]
    }
   ],
   "source": [
    "Newton_Raphson(96.32, 0.464, 0,98.21, 0, 0.1527, Call_BS(96.32 + 25.7, 0.1527, 0.464, 98.21 + 25.7, 0))"
   ]
  },
  {
   "cell_type": "code",
   "execution_count": 22,
   "id": "6461c02d",
   "metadata": {},
   "outputs": [
    {
     "name": "stderr",
     "output_type": "stream",
     "text": [
      "<ipython-input-21-bbfe9e8448b9>:3: RuntimeWarning: divide by zero encountered in double_scalars\n",
      "  sigma0, sigma1 = np.sqrt((2/(T-t))*np.abs(np.log((S0*np.exp((r-q)*(T-t))/K)))), 1000\n"
     ]
    },
    {
     "ename": "NameError",
     "evalue": "name 'sigma' is not defined",
     "output_type": "error",
     "traceback": [
      "\u001b[1;31m---------------------------------------------------------------------------\u001b[0m",
      "\u001b[1;31mNameError\u001b[0m                                 Traceback (most recent call last)",
      "\u001b[1;32m<ipython-input-22-7e95eb9b610c>\u001b[0m in \u001b[0;36m<module>\u001b[1;34m\u001b[0m\n\u001b[0;32m      1\u001b[0m \u001b[1;31m#test values\u001b[0m\u001b[1;33m\u001b[0m\u001b[1;33m\u001b[0m\u001b[1;33m\u001b[0m\u001b[0m\n\u001b[1;32m----> 2\u001b[1;33m \u001b[0mNewton_Raphson\u001b[0m\u001b[1;33m(\u001b[0m\u001b[1;36m91.23\u001b[0m\u001b[1;33m,\u001b[0m\u001b[1;36m0.758\u001b[0m\u001b[1;33m,\u001b[0m\u001b[1;36m99.13\u001b[0m\u001b[1;33m,\u001b[0m\u001b[1;36m0\u001b[0m\u001b[1;33m,\u001b[0m\u001b[0mCall_BS\u001b[0m\u001b[1;33m(\u001b[0m\u001b[1;36m91.23\u001b[0m \u001b[1;33m+\u001b[0m \u001b[1;36m37.58\u001b[0m\u001b[1;33m,\u001b[0m\u001b[1;36m0.2481\u001b[0m\u001b[1;33m,\u001b[0m \u001b[1;36m0.758\u001b[0m\u001b[1;33m,\u001b[0m \u001b[1;36m99.13\u001b[0m \u001b[1;33m+\u001b[0m \u001b[1;36m37.58\u001b[0m\u001b[1;33m,\u001b[0m \u001b[1;36m0\u001b[0m\u001b[1;33m)\u001b[0m\u001b[1;33m,\u001b[0m\u001b[1;36m10\u001b[0m\u001b[1;33m**\u001b[0m\u001b[1;33m(\u001b[0m\u001b[1;33m-\u001b[0m\u001b[1;36m6\u001b[0m\u001b[1;33m)\u001b[0m\u001b[1;33m)\u001b[0m\u001b[1;33m\u001b[0m\u001b[1;33m\u001b[0m\u001b[0m\n\u001b[0m",
      "\u001b[1;32m<ipython-input-21-bbfe9e8448b9>\u001b[0m in \u001b[0;36mNewton_Raphson\u001b[1;34m(S0, T, q, K, r, callmkt, eps, t)\u001b[0m\n\u001b[0;32m      4\u001b[0m     \u001b[1;32mwhile\u001b[0m \u001b[0mabs\u001b[0m\u001b[1;33m(\u001b[0m\u001b[0msigma1\u001b[0m\u001b[1;33m-\u001b[0m\u001b[0msigma0\u001b[0m\u001b[1;33m)\u001b[0m \u001b[1;33m>\u001b[0m \u001b[0meps\u001b[0m\u001b[1;33m:\u001b[0m\u001b[1;33m\u001b[0m\u001b[1;33m\u001b[0m\u001b[0m\n\u001b[0;32m      5\u001b[0m         \u001b[0msigma0\u001b[0m \u001b[1;33m=\u001b[0m \u001b[0msigma1\u001b[0m\u001b[1;33m\u001b[0m\u001b[1;33m\u001b[0m\u001b[0m\n\u001b[1;32m----> 6\u001b[1;33m         \u001b[0msigma1\u001b[0m \u001b[1;33m=\u001b[0m \u001b[0msigma0\u001b[0m \u001b[1;33m-\u001b[0m \u001b[1;33m(\u001b[0m\u001b[0mCall_BS_q\u001b[0m\u001b[1;33m(\u001b[0m\u001b[0mS0\u001b[0m\u001b[1;33m,\u001b[0m\u001b[0msigma\u001b[0m\u001b[1;33m,\u001b[0m\u001b[0mT\u001b[0m\u001b[1;33m,\u001b[0m \u001b[0mK\u001b[0m\u001b[1;33m,\u001b[0m\u001b[0mr\u001b[0m\u001b[1;33m,\u001b[0m\u001b[0mq\u001b[0m\u001b[1;33m,\u001b[0m\u001b[0mt\u001b[0m\u001b[1;33m)\u001b[0m \u001b[1;33m-\u001b[0m \u001b[0mcallmkt\u001b[0m\u001b[1;33m)\u001b[0m\u001b[1;33m/\u001b[0m\u001b[1;33m(\u001b[0m\u001b[0mvega_BS\u001b[0m\u001b[1;33m(\u001b[0m\u001b[0mS0\u001b[0m\u001b[1;33m,\u001b[0m\u001b[0mK\u001b[0m\u001b[1;33m,\u001b[0m\u001b[0mT\u001b[0m\u001b[1;33m,\u001b[0m\u001b[0mr\u001b[0m\u001b[1;33m,\u001b[0m\u001b[0mq\u001b[0m\u001b[1;33m,\u001b[0m\u001b[0msigma\u001b[0m\u001b[1;33m,\u001b[0m\u001b[0mt\u001b[0m\u001b[1;33m)\u001b[0m\u001b[1;33m)\u001b[0m\u001b[1;33m\u001b[0m\u001b[1;33m\u001b[0m\u001b[0m\n\u001b[0m\u001b[0;32m      7\u001b[0m \u001b[1;33m\u001b[0m\u001b[0m\n\u001b[0;32m      8\u001b[0m     \u001b[1;32mreturn\u001b[0m \u001b[0msigma1\u001b[0m\u001b[1;33m\u001b[0m\u001b[1;33m\u001b[0m\u001b[0m\n",
      "\u001b[1;31mNameError\u001b[0m: name 'sigma' is not defined"
     ]
    }
   ],
   "source": [
    "#test values \n",
    "Newton_Raphson(91.23,0.758,99.13,0,Call_BS(91.23 + 37.58,0.2481, 0.758, 99.13 + 37.58, 0),10**(-6))"
   ]
  },
  {
   "cell_type": "code",
   "execution_count": null,
   "id": "adc24a9b",
   "metadata": {},
   "outputs": [],
   "source": [
    "# question vol impli\n",
    "np.sqrt((2/1.038)*np.abs(np.log((92.8*np.exp((0.069 - 0.058)*1.038))/91.48)))\n"
   ]
  },
  {
   "cell_type": "markdown",
   "id": "cd99ebf9",
   "metadata": {},
   "source": [
    "### Bin Call & Put"
   ]
  },
  {
   "cell_type": "code",
   "execution_count": null,
   "id": "9880cfe8",
   "metadata": {},
   "outputs": [],
   "source": [
    "def BinCall_BS(S0,sigma,T,K,r,q,t=0):\n",
    "    x = 1/(sigma*np.sqrt(T-t))*np.log(S0*np.exp((r-q)*(T-t))/K)\n",
    "    dpos = x + 0.5*sigma*np.sqrt(T-t)\n",
    "    dneg = x - 0.5*sigma*np.sqrt(T-t)\n",
    "    return np.exp(-r*(T-t))*norm.cdf(dneg)\n",
    "    \n",
    "def BinPut_BS(S0,sigma,T,K,r,q,t=0):  \n",
    "    x = 1/(sigma*np.sqrt(T-t))*np.log(S0*np.exp((r-q)*(T-t))/K)\n",
    "    dpos = x + 0.5*sigma*np.sqrt(T-t)\n",
    "    dneg = x - 0.5*sigma*np.sqrt(T-t)\n",
    "    \n",
    "    return np.exp(-r*(T-t))*norm.cdf(dpos)"
   ]
  },
  {
   "cell_type": "code",
   "execution_count": 65,
   "id": "8f9fb7bc",
   "metadata": {},
   "outputs": [
    {
     "data": {
      "text/plain": [
       "0.2548"
      ]
     },
     "execution_count": 65,
     "metadata": {},
     "output_type": "execute_result"
    }
   ],
   "source": [
    "round(BinCall_BS(90.8, 0.2482, 0.906, 103.44,0.049, 0.037),4)"
   ]
  },
  {
   "cell_type": "code",
   "execution_count": null,
   "id": "c3db40d6",
   "metadata": {},
   "outputs": [],
   "source": []
  },
  {
   "cell_type": "markdown",
   "id": "c2eab125",
   "metadata": {},
   "source": [
    "### BinDic et tout le bordel \n",
    "\n",
    "### Regular "
   ]
  },
  {
   "cell_type": "code",
   "execution_count": 30,
   "id": "b8092cb2",
   "metadata": {},
   "outputs": [],
   "source": [
    "def DIC_BS(S0,K,D,T,r,q,sigma,t =0):\n",
    "    gamma = 1 - 2 *(r -q)/(sigma**2)\n",
    "    \n",
    "    if D <= K:\n",
    "        if S0 <= D:\n",
    "            return Call_BS_q(S0,sigma,T, K,r,q,t)\n",
    "        if S0 > D:\n",
    "            return ((S0/D)**(gamma-1))*Call_BS_q(D,sigma,T,K*S0/D,r,q,t)\n",
    "    \n",
    "def BinDIC(S0,K,D,T,r,q,sigma,t =0):\n",
    "    gamma = 1 - 2 *(r -q)/(sigma**2)\n",
    "    \n",
    "    return ((S0/D)**gamma)*BinCall_BS(D,sigma,T,K*S0/D,r,q,t)\n",
    "\n",
    "def Dic_Call_rev(S0,K,D,T,r,q,sigma,t =0):\n",
    "    \n",
    "    return Call_BS_q(S0,sigma,T, K,r,q,t) - Call_BS_q(S0,sigma,T, D,r,q,t) - (D - K)*BinCall_BS(S0,sigma,T,D,r,q,t=0) + DIC_BS(S0,K,D,T,r,q,sigma,t =0) + (D - K)*BinDIC(S0,K,D,T,r,q,sigma,t =0)"
   ]
  },
  {
   "cell_type": "code",
   "execution_count": 36,
   "id": "4145415c",
   "metadata": {},
   "outputs": [
    {
     "ename": "TypeError",
     "evalue": "unsupported operand type(s) for +: 'float' and 'NoneType'",
     "output_type": "error",
     "traceback": [
      "\u001b[1;31m---------------------------------------------------------------------------\u001b[0m",
      "\u001b[1;31mTypeError\u001b[0m                                 Traceback (most recent call last)",
      "\u001b[1;32m<ipython-input-36-f4b5d5d5d61b>\u001b[0m in \u001b[0;36m<module>\u001b[1;34m\u001b[0m\n\u001b[1;32m----> 1\u001b[1;33m \u001b[0mDic_Call_rev\u001b[0m\u001b[1;33m(\u001b[0m\u001b[1;36m100\u001b[0m\u001b[1;33m,\u001b[0m\u001b[1;36m95\u001b[0m\u001b[1;33m,\u001b[0m\u001b[1;36m98\u001b[0m\u001b[1;33m,\u001b[0m\u001b[1;36m0.5\u001b[0m\u001b[1;33m,\u001b[0m\u001b[1;36m0.02\u001b[0m\u001b[1;33m,\u001b[0m\u001b[1;36m0.01\u001b[0m\u001b[1;33m,\u001b[0m \u001b[1;36m0.2\u001b[0m\u001b[1;33m)\u001b[0m\u001b[1;33m\u001b[0m\u001b[1;33m\u001b[0m\u001b[0m\n\u001b[0m",
      "\u001b[1;32m<ipython-input-30-d968a28ed90d>\u001b[0m in \u001b[0;36mDic_Call_rev\u001b[1;34m(S0, K, D, T, r, q, sigma, t)\u001b[0m\n\u001b[0;32m     15\u001b[0m \u001b[1;32mdef\u001b[0m \u001b[0mDic_Call_rev\u001b[0m\u001b[1;33m(\u001b[0m\u001b[0mS0\u001b[0m\u001b[1;33m,\u001b[0m\u001b[0mK\u001b[0m\u001b[1;33m,\u001b[0m\u001b[0mD\u001b[0m\u001b[1;33m,\u001b[0m\u001b[0mT\u001b[0m\u001b[1;33m,\u001b[0m\u001b[0mr\u001b[0m\u001b[1;33m,\u001b[0m\u001b[0mq\u001b[0m\u001b[1;33m,\u001b[0m\u001b[0msigma\u001b[0m\u001b[1;33m,\u001b[0m\u001b[0mt\u001b[0m \u001b[1;33m=\u001b[0m\u001b[1;36m0\u001b[0m\u001b[1;33m)\u001b[0m\u001b[1;33m:\u001b[0m\u001b[1;33m\u001b[0m\u001b[1;33m\u001b[0m\u001b[0m\n\u001b[0;32m     16\u001b[0m \u001b[1;33m\u001b[0m\u001b[0m\n\u001b[1;32m---> 17\u001b[1;33m     \u001b[1;32mreturn\u001b[0m \u001b[0mCall_BS_q\u001b[0m\u001b[1;33m(\u001b[0m\u001b[0mS0\u001b[0m\u001b[1;33m,\u001b[0m\u001b[0msigma\u001b[0m\u001b[1;33m,\u001b[0m\u001b[0mT\u001b[0m\u001b[1;33m,\u001b[0m \u001b[0mK\u001b[0m\u001b[1;33m,\u001b[0m\u001b[0mr\u001b[0m\u001b[1;33m,\u001b[0m\u001b[0mq\u001b[0m\u001b[1;33m,\u001b[0m\u001b[0mt\u001b[0m\u001b[1;33m)\u001b[0m \u001b[1;33m-\u001b[0m \u001b[0mCall_BS_q\u001b[0m\u001b[1;33m(\u001b[0m\u001b[0mS0\u001b[0m\u001b[1;33m,\u001b[0m\u001b[0msigma\u001b[0m\u001b[1;33m,\u001b[0m\u001b[0mT\u001b[0m\u001b[1;33m,\u001b[0m \u001b[0mD\u001b[0m\u001b[1;33m,\u001b[0m\u001b[0mr\u001b[0m\u001b[1;33m,\u001b[0m\u001b[0mq\u001b[0m\u001b[1;33m,\u001b[0m\u001b[0mt\u001b[0m\u001b[1;33m)\u001b[0m \u001b[1;33m-\u001b[0m \u001b[1;33m(\u001b[0m\u001b[0mD\u001b[0m \u001b[1;33m-\u001b[0m \u001b[0mK\u001b[0m\u001b[1;33m)\u001b[0m\u001b[1;33m*\u001b[0m\u001b[0mBinCall_BS\u001b[0m\u001b[1;33m(\u001b[0m\u001b[0mS0\u001b[0m\u001b[1;33m,\u001b[0m\u001b[0msigma\u001b[0m\u001b[1;33m,\u001b[0m\u001b[0mT\u001b[0m\u001b[1;33m,\u001b[0m\u001b[0mD\u001b[0m\u001b[1;33m,\u001b[0m\u001b[0mr\u001b[0m\u001b[1;33m,\u001b[0m\u001b[0mq\u001b[0m\u001b[1;33m,\u001b[0m\u001b[0mt\u001b[0m\u001b[1;33m=\u001b[0m\u001b[1;36m0\u001b[0m\u001b[1;33m)\u001b[0m \u001b[1;33m+\u001b[0m \u001b[0mDIC_BS\u001b[0m\u001b[1;33m(\u001b[0m\u001b[0mS0\u001b[0m\u001b[1;33m,\u001b[0m\u001b[0mK\u001b[0m\u001b[1;33m,\u001b[0m\u001b[0mD\u001b[0m\u001b[1;33m,\u001b[0m\u001b[0mT\u001b[0m\u001b[1;33m,\u001b[0m\u001b[0mr\u001b[0m\u001b[1;33m,\u001b[0m\u001b[0mq\u001b[0m\u001b[1;33m,\u001b[0m\u001b[0msigma\u001b[0m\u001b[1;33m,\u001b[0m\u001b[0mt\u001b[0m \u001b[1;33m=\u001b[0m\u001b[1;36m0\u001b[0m\u001b[1;33m)\u001b[0m \u001b[1;33m+\u001b[0m \u001b[1;33m(\u001b[0m\u001b[0mD\u001b[0m \u001b[1;33m-\u001b[0m \u001b[0mK\u001b[0m\u001b[1;33m)\u001b[0m\u001b[1;33m*\u001b[0m\u001b[0mBinDIC\u001b[0m\u001b[1;33m(\u001b[0m\u001b[0mS0\u001b[0m\u001b[1;33m,\u001b[0m\u001b[0mK\u001b[0m\u001b[1;33m,\u001b[0m\u001b[0mD\u001b[0m\u001b[1;33m,\u001b[0m\u001b[0mT\u001b[0m\u001b[1;33m,\u001b[0m\u001b[0mr\u001b[0m\u001b[1;33m,\u001b[0m\u001b[0mq\u001b[0m\u001b[1;33m,\u001b[0m\u001b[0msigma\u001b[0m\u001b[1;33m,\u001b[0m\u001b[0mt\u001b[0m \u001b[1;33m=\u001b[0m\u001b[1;36m0\u001b[0m\u001b[1;33m)\u001b[0m\u001b[1;33m\u001b[0m\u001b[1;33m\u001b[0m\u001b[0m\n\u001b[0m",
      "\u001b[1;31mTypeError\u001b[0m: unsupported operand type(s) for +: 'float' and 'NoneType'"
     ]
    }
   ],
   "source": [
    "Dic_Call_rev(100,95,98,0.5,0.02,0.01, 0.2)"
   ]
  },
  {
   "cell_type": "code",
   "execution_count": 32,
   "id": "5fde8031",
   "metadata": {},
   "outputs": [
    {
     "data": {
      "text/plain": [
       "8.60456352869545"
      ]
     },
     "execution_count": 32,
     "metadata": {},
     "output_type": "execute_result"
    }
   ],
   "source": [
    "Call_BS_q(100,0.2, 0.5, 95, 0.02,0.01)"
   ]
  },
  {
   "cell_type": "code",
   "execution_count": 39,
   "id": "b3fffdfc",
   "metadata": {},
   "outputs": [
    {
     "data": {
      "text/plain": [
       "12.852450000000001"
      ]
     },
     "execution_count": 39,
     "metadata": {},
     "output_type": "execute_result"
    }
   ],
   "source": [
    "(5.07**2)/2"
   ]
  },
  {
   "cell_type": "markdown",
   "id": "a7afff3f",
   "metadata": {},
   "source": [
    "### Arbre Binomial "
   ]
  },
  {
   "cell_type": "code",
   "execution_count": 48,
   "id": "bfa08286",
   "metadata": {},
   "outputs": [],
   "source": [
    " def couverture_arbre2_call(S0, u, d, r, payoff,K):\n",
    "    deltas = []\n",
    "    pis = []\n",
    "    prices=[]\n",
    "    up_down = u-d\n",
    "    actu = 1/(1+r)\n",
    "    p_tilde = (1+r-d)/up_down\n",
    "    q_tilde = 1-p_tilde\n",
    "    ####up tree\n",
    "    delta1_up   = round((payoff(u*u*S0,K)-payoff(u*d*S0,K))/(u*u*S0 - u*d*S0),3)\n",
    "    pi1_up   = round((0.5*actu*((payoff(u*u*S0,K)+payoff(u*d*S0,K)-delta1_up*(u*u*S0+u*d*S0)))),3)\n",
    "    price1_up = round(actu*payoff(u*u*S0,K)*p_tilde + actu*payoff(u*d*S0,K)*q_tilde,3)\n",
    "    #print(price1_up)\n",
    "    #print(delta1_up*S0*u + pi1_up)\n",
    "    \n",
    "    ####down_tree\n",
    "    delta1_down = round((payoff(u*d*S0,K)-payoff(d*d*S0,K))/(u*d*S0 - d*d*S0),3)\n",
    "    pi1_down    = round((0.5*actu*((payoff(u*d*S0,K)+payoff(d*d*S0,K)-delta1_down*(d*u*S0+d*d*S0)))),3)\n",
    "    price1_down = round(actu*payoff(d*u*S0,K)*p_tilde + actu*payoff(d*d*S0,K)*q_tilde,3)\n",
    "    #print(price1_down)\n",
    "    #print(delta1_down*d*S0+pi1_down)\n",
    "    \n",
    "    deltas = deltas+[(delta1_up,delta1_down)]\n",
    "    pis    = pis + [(pi1_up,pi1_down)]\n",
    "    prices = prices + [(price1_up,price1_down)]\n",
    "    \n",
    "    ####initial_node\n",
    "    delta_0    = round((price1_up - price1_down)/(S0*up_down),3)\n",
    "    pi_0       = round((u*price1_down-d*price1_up)*actu*1/(up_down),3)\n",
    "    price_init = round(actu*price1_up*p_tilde + actu*price1_down*q_tilde,3)\n",
    "    #print(price_init)\n",
    "    #print(delta_0*S0+pi_0)\n",
    "    \n",
    "    \n",
    "    deltas = deltas + [(delta_0)]\n",
    "    pis    = pis + [(pi_0)]\n",
    "    prices = prices + [(price_init)]\n",
    "    \n",
    "    \n",
    "    print(deltas)\n",
    "    print(pis)\n",
    "    print(prices)\n",
    "    print(price_init)\n",
    "    \n",
    "def payoff(S_T, K):\n",
    "    return max(S_T - K,0)"
   ]
  },
  {
   "cell_type": "code",
   "execution_count": 49,
   "id": "230720ef",
   "metadata": {},
   "outputs": [
    {
     "name": "stdout",
     "output_type": "stream",
     "text": [
      "[(1.0, 0.043), 0.689]\n",
      "[(-100.04, -4.167), -67.835]\n",
      "[(2.393, 0.094), 1.621]\n",
      "1.621\n"
     ]
    }
   ],
   "source": [
    "couverture_arbre2_call(100.82, 1+1.6/100, 1-1.71/100, 0.005,payoff, 100.54)"
   ]
  },
  {
   "cell_type": "code",
   "execution_count": 45,
   "id": "09e632b1",
   "metadata": {},
   "outputs": [
    {
     "data": {
      "text/plain": [
       "-0.81"
      ]
     },
     "execution_count": 45,
     "metadata": {},
     "output_type": "execute_result"
    }
   ],
   "source": [
    "round(((-0.299*0.236)+(-0.205*(-0.008)))/(np.sqrt((-0.299)**2 + (-0.205)**2)*np.sqrt(0.236**2 + 0.008**2)),2)"
   ]
  },
  {
   "cell_type": "code",
   "execution_count": 57,
   "id": "1fa77c1b",
   "metadata": {},
   "outputs": [
    {
     "data": {
      "text/plain": [
       "0.7817"
      ]
     },
     "execution_count": 57,
     "metadata": {},
     "output_type": "execute_result"
    }
   ],
   "source": [
    "round(Call_BS_q(0.99,0.1139 +5,0.257, 0.95,0.085,0.094,t=0),4)"
   ]
  },
  {
   "cell_type": "code",
   "execution_count": 62,
   "id": "399dd0bc",
   "metadata": {},
   "outputs": [
    {
     "data": {
      "text/plain": [
       "-0.8051345177450792"
      ]
     },
     "execution_count": 62,
     "metadata": {},
     "output_type": "execute_result"
    }
   ],
   "source": [
    "s1 = np.array([-0.299, -0.205])\n",
    "s2 = np.array([0.236, -0.008])\n",
    "\n",
    "np.dot(s1,s2)/(np.linalg.norm(s1)*np.linalg.norm(s2))"
   ]
  },
  {
   "cell_type": "code",
   "execution_count": null,
   "id": "e771ff17",
   "metadata": {},
   "outputs": [],
   "source": []
  }
 ],
 "metadata": {
  "kernelspec": {
   "display_name": "Python 3",
   "language": "python",
   "name": "python3"
  },
  "language_info": {
   "codemirror_mode": {
    "name": "ipython",
    "version": 3
   },
   "file_extension": ".py",
   "mimetype": "text/x-python",
   "name": "python",
   "nbconvert_exporter": "python",
   "pygments_lexer": "ipython3",
   "version": "3.8.8"
  },
  "varInspector": {
   "cols": {
    "lenName": 16,
    "lenType": 16,
    "lenVar": 40
   },
   "kernels_config": {
    "python": {
     "delete_cmd_postfix": "",
     "delete_cmd_prefix": "del ",
     "library": "var_list.py",
     "varRefreshCmd": "print(var_dic_list())"
    },
    "r": {
     "delete_cmd_postfix": ") ",
     "delete_cmd_prefix": "rm(",
     "library": "var_list.r",
     "varRefreshCmd": "cat(var_dic_list()) "
    }
   },
   "types_to_exclude": [
    "module",
    "function",
    "builtin_function_or_method",
    "instance",
    "_Feature"
   ],
   "window_display": false
  }
 },
 "nbformat": 4,
 "nbformat_minor": 5
}
